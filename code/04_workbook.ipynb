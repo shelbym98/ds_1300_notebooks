{
 "cells": [
  {
   "cell_type": "markdown",
   "id": "b8003165",
   "metadata": {},
   "source": [
    "# Exploring and Cleaning a Data Set\n"
   ]
  },
  {
   "cell_type": "markdown",
   "id": "62ec838c",
   "metadata": {},
   "source": [
    " By: Dr. Eric Godat and Dr. Rob Kalescky\n",
    " \n",
    " Natural Language Toolkit: [Documentation](http://www.nltk.org/)\n",
    " \n",
    " Reference Text: [Natural Language Processing with Python](http://www.nltk.org/book/)\n",
    " "
   ]
  },
  {
   "cell_type": "markdown",
   "id": "de5cdd8f",
   "metadata": {},
   "source": [
    "## Setup"
   ]
  },
  {
   "cell_type": "markdown",
   "id": "52f913a5",
   "metadata": {},
   "source": [
    "These are the basic libraries we will use in for data manipulation (pandas) and math functions (numpy). We will add more libraries as we need them.\n",
    "\n",
    "As a best practice, it is a good idea to load all your libraries in a single cell at the top of a notebook, however for the purposes of this tutorial we will load them as we go."
   ]
  },
  {
   "cell_type": "code",
   "execution_count": null,
   "id": "a033cbee",
   "metadata": {},
   "outputs": [],
   "source": [
    "import pandas as pd\n",
    "import numpy as np"
   ]
  },
  {
   "cell_type": "markdown",
   "id": "e612247b",
   "metadata": {},
   "source": [
    "Load a data file into a pandas DataFrame.\n",
    "\n",
    "This tutorial was designed around using sets of data you have yourselves in a form like a CSV, TSV, or TXT file.  Feel free to use any set of data, but for now we will use a dataset created from scraping this [Multilingual Folktale Database](http://www.mftd.org/).\n",
    "\n",
    "This file is a CSV filetype, common for text data, but your data may also be stored as TSV's, TXT's, or other file types.  This will slightly change how you read from Pandas, but the concept is largely the same for the different filetypes.  Just keep this in mind when you see references to CSV.\n",
    "\n",
    "To proceed, you will need to have this file downloaded and in the same folder as this notebook. Alternatively you can put the full path to the file.  Typically, your program will look for the file with the name you specified in the folder that contains your program unless you give the program a path to follow."
   ]
  },
  {
   "cell_type": "code",
   "execution_count": null,
   "id": "df547904",
   "metadata": {},
   "outputs": [],
   "source": [
    "data = pd.read_csv('../data/folktales.csv')\n",
    "data.head()"
   ]
  },
  {
   "cell_type": "markdown",
   "id": "19ecc263",
   "metadata": {},
   "source": [
    "Here we can see all the information available to us from the file in the form of a Pandas DataFrame. For the remainder of this tutorial, we will focus primarily on the full text of each data chunk, which we will name the *Story* column.  With your data set this is likely to be something very different, so feel free to call is something else."
   ]
  },
  {
   "cell_type": "markdown",
   "id": "3490e8cc",
   "metadata": {},
   "source": [
    "## Counting Words and Characters"
   ]
  },
  {
   "cell_type": "markdown",
   "id": "23b6e6b4",
   "metadata": {},
   "source": [
    "The first bit of analysis we might want to do is to count the number of words in one piece of data. To do this we will add a column called *wordcount* and write an operation that applies a function to every row of the column.\n",
    "\n",
    "Unpacking this piece of code, *len(str(x).split(\" \")*, tells us what is happening.\n",
    "\n",
    "For the content of cell *x*, convert it to a string, *str()*, then split that string into pieces at each space, *split()*.\n",
    "\n",
    "The result of that is a list of all the words in the text and then we can count the length of that list, *len()*."
   ]
  },
  {
   "cell_type": "code",
   "execution_count": null,
   "id": "db763ca2",
   "metadata": {},
   "outputs": [],
   "source": [
    "data['wordcount'] = data['Story'].apply(lambda x: len(str(x).split(\" \")))\n",
    "data[['Story','wordcount']].head()"
   ]
  },
  {
   "cell_type": "markdown",
   "id": "a35b238e",
   "metadata": {},
   "source": [
    "We can do something similar to count the number of characters in the data chunk, including spaces. If you wanted to exclude whitespaces, you could take the list we made above, join it together and count the length of the resulting string."
   ]
  },
  {
   "cell_type": "code",
   "execution_count": null,
   "id": "3acfbfb8",
   "metadata": {},
   "outputs": [],
   "source": [
    "data = data.fillna(\"No Information Provided\") #If some of our data is missing, this will replace the blank entries. This is only necessary in some cases\n"
   ]
  },
  {
   "cell_type": "code",
   "execution_count": null,
   "id": "d04ca5fe",
   "metadata": {},
   "outputs": [],
   "source": [
    "data['char_count'] = data['Story'].str.len() ## this also includes spaces, to do it without spaces, you could use something like this: \"\".join()\n",
    "data[['Story','char_count']].head()"
   ]
  },
  {
   "cell_type": "markdown",
   "id": "f09dbb33",
   "metadata": {},
   "source": [
    "Now we want to calculate the average word length in the data.\n",
    "\n",
    "Let's define a function that will do that for us:"
   ]
  },
  {
   "cell_type": "code",
   "execution_count": null,
   "id": "7fdf585b",
   "metadata": {},
   "outputs": [],
   "source": [
    "def avg_word(sentence):\n",
    "    words = sentence.split()\n",
    "    return (sum(len(word) for word in words)/len(words))"
   ]
  },
  {
   "cell_type": "markdown",
   "id": "fe6a2f52",
   "metadata": {},
   "source": [
    "We can now apply that function to all the data chunks and save that in a new column."
   ]
  },
  {
   "cell_type": "code",
   "execution_count": null,
   "id": "4b2eaa42",
   "metadata": {},
   "outputs": [],
   "source": [
    "data['avg_word'] = data['Story'].apply(lambda x: avg_word(x))\n",
    "data[['Story','avg_word']].head()"
   ]
  },
  {
   "cell_type": "markdown",
   "id": "0bea610a",
   "metadata": {},
   "source": [
    "We can then sort by the average word length."
   ]
  },
  {
   "cell_type": "code",
   "execution_count": null,
   "id": "d94855d0",
   "metadata": {},
   "outputs": [],
   "source": [
    "data[['Story','avg_word']].sort_values(by='avg_word', ascending=True).head()"
   ]
  },
  {
   "cell_type": "markdown",
   "id": "69048ad4",
   "metadata": {},
   "source": [
    "### Count Stopwords"
   ]
  },
  {
   "cell_type": "markdown",
   "id": "d3174aba",
   "metadata": {},
   "source": [
    "Stopwords are words that are commonly used and do little to aid in the understanding of the content of a text. There is no universal list of stopwords and they vary on the style, time period and media from which your text came from.  Typically, people choose to remove stopwords from their data, as it adds extra clutter while the words themselves provide little to no insight as to the nature of the data.  For now, we are simply going to count them to get an idea of how many there are.\n",
    "\n",
    "For this tutorial, we will use the standard list of stopwords provided by the Natural Language Toolkit python library."
   ]
  },
  {
   "cell_type": "code",
   "execution_count": null,
   "id": "08e8a386",
   "metadata": {},
   "outputs": [],
   "source": [
    "import nltk\n",
    "nltk.download('stopwords')"
   ]
  },
  {
   "cell_type": "code",
   "execution_count": null,
   "id": "e9a880e5",
   "metadata": {},
   "outputs": [],
   "source": [
    "from nltk.corpus import stopwords\n",
    "stop = stopwords.words('english')"
   ]
  },
  {
   "cell_type": "markdown",
   "id": "ca480487",
   "metadata": {},
   "source": [
    "To count the number of stopwords in a chunk of data, we make a list of all the words in our data that are also in the stopword list. We can then just take the length of that list and store it in a new column"
   ]
  },
  {
   "cell_type": "code",
   "execution_count": null,
   "id": "c7a355e6",
   "metadata": {},
   "outputs": [],
   "source": [
    "data['stopwords'] = data['Story'].apply(lambda x: len([x for x in x.split() if x in stop]))\n",
    "data[['Story','stopwords','wordcount']].head()"
   ]
  },
  {
   "cell_type": "markdown",
   "id": "d0dee27a",
   "metadata": {},
   "source": [
    "### Other Ways to Count"
   ]
  },
  {
   "cell_type": "markdown",
   "id": "e08f7114",
   "metadata": {},
   "source": [
    "There are other types of counting we might want to do. These might be more or less relevant depending on the test you are working with.\n",
    "\n",
    "For completeness, we have put them here but we will skip over them in this tutorial"
   ]
  },
  {
   "cell_type": "markdown",
   "id": "e56d0a6b",
   "metadata": {},
   "source": [
    "#### Counting Special Characters"
   ]
  },
  {
   "cell_type": "markdown",
   "id": "650141f7",
   "metadata": {},
   "source": [
    "This is really only useful for Twitter or other Internet texts but you could imagine wanting to count quotations or exclamations with something similar."
   ]
  },
  {
   "cell_type": "code",
   "execution_count": null,
   "id": "6d1325d7",
   "metadata": {},
   "outputs": [],
   "source": [
    "data['special_char'] = data['Story'].apply(lambda x: len([x for x in x.split() if x.startswith('#')]))\n",
    "data[['Story','special_char']].head()"
   ]
  },
  {
   "cell_type": "markdown",
   "id": "b543ec1b",
   "metadata": {},
   "source": [
    "#### Counting Numbers"
   ]
  },
  {
   "cell_type": "markdown",
   "id": "c44a0ddd",
   "metadata": {},
   "source": [
    "This counts the number of numerical digits in a text, which for strict text may not be helpful, but mostly numerical data will make more use of this."
   ]
  },
  {
   "cell_type": "code",
   "execution_count": null,
   "id": "2d0598cf",
   "metadata": {},
   "outputs": [],
   "source": [
    "data['numerics'] = data['Story'].apply(lambda x: len([x for x in x.split() if x.isdigit()]))\n",
    "data[['Story','numerics']].sort_values(by='numerics', ascending=False).head()"
   ]
  },
  {
   "cell_type": "markdown",
   "id": "d4892ab3",
   "metadata": {},
   "source": [
    "#### Counting Uppercase"
   ]
  },
  {
   "cell_type": "markdown",
   "id": "8f8c067b",
   "metadata": {},
   "source": [
    "Counting uppercase words could give us an indication of how many sentences or proper nouns are in a text but this is likely too broad to be used to classify either on its own."
   ]
  },
  {
   "cell_type": "code",
   "execution_count": null,
   "id": "ba91ec46",
   "metadata": {},
   "outputs": [],
   "source": [
    "data['upper'] = data['Story'].apply(lambda x: len([x for x in x.split() if x.isupper()]))\n",
    "data[['Story','upper']].head()"
   ]
  },
  {
   "cell_type": "markdown",
   "id": "49b2a1bd",
   "metadata": {},
   "source": [
    "# Processing Text"
   ]
  },
  {
   "cell_type": "markdown",
   "id": "a0d90fe2",
   "metadata": {},
   "source": [
    "A major component of doing analysis on text is the cleaning of the text prior to the analysis.\n",
    "\n",
    "Though this process destroys some elements of the text (sentence structure, for example), it is often necessary in order to describe a text analytically. Depending on your choice of cleaning techniques, some elements might be preserved better than others if that is of importance to your analysis."
   ]
  },
  {
   "cell_type": "markdown",
   "id": "be2ca371",
   "metadata": {},
   "source": [
    "## Cleaning Up Words"
   ]
  },
  {
   "cell_type": "markdown",
   "id": "a12fa334",
   "metadata": {},
   "source": [
    "This series of steps aims to clean up and standardize the text itself. This generally consists of removing common elements such as stopwords and punctuation but can be expanded to more detailed removals."
   ]
  },
  {
   "cell_type": "markdown",
   "id": "9c1322d1",
   "metadata": {},
   "source": [
    "### Lowercase"
   ]
  },
  {
   "cell_type": "markdown",
   "id": "1b091f59",
   "metadata": {},
   "source": [
    "Here we enforce that all of the text is lowercase. This makes it easier to match cases and sort words.\n",
    "\n",
    "Notice we are assigning our modified column back to itself. This will save our modifications to our DataFrame"
   ]
  },
  {
   "cell_type": "code",
   "execution_count": null,
   "id": "098845a3",
   "metadata": {},
   "outputs": [],
   "source": [
    "data['Story'] = data['Story'].apply(lambda x: \" \".join(x.lower() for x in x.split()))\n",
    "data['Story'].head()"
   ]
  },
  {
   "cell_type": "markdown",
   "id": "fd17eff7",
   "metadata": {},
   "source": [
    "### Remove Punctuation"
   ]
  },
  {
   "cell_type": "markdown",
   "id": "f813ad3c",
   "metadata": {},
   "source": [
    "Here we remove all punctuation from the data. This allows us to focus on the words only as well as assist in matching."
   ]
  },
  {
   "cell_type": "code",
   "execution_count": null,
   "id": "94af37f3",
   "metadata": {},
   "outputs": [],
   "source": [
    "data['Story'] = data['Story'].str.replace('[^\\w\\s]','')\n",
    "data['Story'].head()"
   ]
  },
  {
   "cell_type": "markdown",
   "id": "a929053c",
   "metadata": {},
   "source": [
    "### Remove Stopwords"
   ]
  },
  {
   "cell_type": "markdown",
   "id": "7eda5308",
   "metadata": {},
   "source": [
    "Similar to what we did earlier when we counted stopwords, we now want to remove the stopwords. We will again use the NLTK list of stopwords but this time keep a list of words that do not appear in the list of stopwords."
   ]
  },
  {
   "cell_type": "code",
   "execution_count": null,
   "id": "282e3996",
   "metadata": {},
   "outputs": [],
   "source": [
    "from nltk.corpus import stopwords\n",
    "stop = stopwords.words('english')"
   ]
  },
  {
   "cell_type": "code",
   "execution_count": null,
   "id": "7b217a2b",
   "metadata": {},
   "outputs": [],
   "source": [
    "data['Story'] = data['Story'].apply(lambda x: \" \".join(x for x in x.split() if x not in stop))\n",
    "data['Story'].head()"
   ]
  },
  {
   "cell_type": "markdown",
   "id": "2273b242",
   "metadata": {},
   "source": [
    "### Remove Frequent Words"
   ]
  },
  {
   "cell_type": "markdown",
   "id": "ea3fd0a9",
   "metadata": {},
   "source": [
    "If we want to catch common words that might have slipped through the stopword removal, we can build out a list of the most common words remaining in our text.\n",
    "\n",
    "Here we have built a list of the 10 most common words. Some of these words might actually be relevant to our analysis so it is important to be careful with this method."
   ]
  },
  {
   "cell_type": "code",
   "execution_count": null,
   "id": "a5991992",
   "metadata": {},
   "outputs": [],
   "source": [
    "freq = pd.Series(' '.join(data['Story']).split()).value_counts()[:10]\n",
    "freq"
   ]
  },
  {
   "cell_type": "markdown",
   "id": "f3196c58",
   "metadata": {},
   "source": [
    "We now follow the same procedure with which we removed stopwords to remove the most frequent words."
   ]
  },
  {
   "cell_type": "code",
   "execution_count": null,
   "id": "b27db9a1",
   "metadata": {},
   "outputs": [],
   "source": [
    "freq = list(freq.index)\n",
    "data['Story'] = data['Story'].apply(lambda x: \" \".join(x for x in x.split() if x not in freq))\n",
    "data['Story'].head()"
   ]
  },
  {
   "cell_type": "markdown",
   "id": "2144df7b",
   "metadata": {},
   "source": [
    "### Remove Rare Words"
   ]
  },
  {
   "cell_type": "markdown",
   "id": "5f40d6cd",
   "metadata": {},
   "source": [
    "By analogy, we can remove the most rare words. Some of these are strange misspellings or [hapax legomenon](https://en.wikipedia.org/wiki/Hapax_legomenon) (one off words that don't appear anywhere else in the text)."
   ]
  },
  {
   "cell_type": "code",
   "execution_count": null,
   "id": "8564f109",
   "metadata": {},
   "outputs": [],
   "source": [
    "freq = pd.Series(' '.join(data['Story']).split()).value_counts()[-10:]\n",
    "freq"
   ]
  },
  {
   "cell_type": "markdown",
   "id": "4a3b3a7d",
   "metadata": {},
   "source": [
    "Again, removing words following the same process as the stopword removal."
   ]
  },
  {
   "cell_type": "code",
   "execution_count": null,
   "id": "97913413",
   "metadata": {},
   "outputs": [],
   "source": [
    "freq = list(freq.index)\n",
    "data['Story'] = data['Story'].apply(lambda x: \" \".join(x for x in x.split() if x not in freq))\n",
    "data['Story'].head()"
   ]
  },
  {
   "cell_type": "markdown",
   "id": "e45fac65",
   "metadata": {},
   "source": [
    "### Correct Spelling"
   ]
  },
  {
   "cell_type": "markdown",
   "id": "8f577c80",
   "metadata": {},
   "source": [
    "Misspellings can cause inaccuracies in text analysis. For example, \"the\" and \"teh\" are likely intended to be the same word and a reader might gloss over that typo, but a computer would view them as distinct.\n",
    "\n",
    "To help address this we will leverage the [TextBlob package](https://textblob.readthedocs.io/en/dev/) to check the spelling.\n",
    "\n",
    "Since this can be slow and often of questionable usefulness, we have limited the check to the first 5 rows of our DataFrame.\n",
    "\n",
    "It is also worth keeping in mind that, much like autocorrect on your phone, the spellchecking here is not going to be perfectly accurate and could result in just as many errors as it fixes (especially if you are working on text from edited or published sources)."
   ]
  },
  {
   "cell_type": "code",
   "execution_count": null,
   "id": "471f9714",
   "metadata": {},
   "outputs": [],
   "source": [
    "from textblob import TextBlob\n",
    "data['Story'][:5].apply(lambda x: str(TextBlob(x).correct()))"
   ]
  },
  {
   "cell_type": "markdown",
   "id": "7888556f",
   "metadata": {},
   "source": [
    "### Tokenization"
   ]
  },
  {
   "cell_type": "markdown",
   "id": "31bcea61",
   "metadata": {},
   "source": [
    "Tokenization is the process of splitting up a block of text into a sequence of words or sentences.\n",
    "\n",
    "For those familiar with R and the Tidyverse, this would be referred to as unnesting tokens\n",
    "\n",
    "Here we show all the tokenized words from the first data chunk in our Dataframe."
   ]
  },
  {
   "cell_type": "code",
   "execution_count": null,
   "id": "59d4c449",
   "metadata": {},
   "outputs": [],
   "source": [
    "#import nltk\n",
    "#nltk.download('punkt')"
   ]
  },
  {
   "cell_type": "code",
   "execution_count": null,
   "id": "e8027b3d",
   "metadata": {},
   "outputs": [],
   "source": [
    "from textblob import TextBlob\n",
    "\n",
    "TextBlob(data['Story'][0]).words"
   ]
  },
  {
   "cell_type": "markdown",
   "id": "27b4ab5f",
   "metadata": {},
   "source": [
    "## Stemming"
   ]
  },
  {
   "cell_type": "markdown",
   "id": "27f2b067",
   "metadata": {},
   "source": [
    "Stemming is the process of removing suffices, like \"ed\" or \"ing\".\n",
    "\n",
    "We will use another standard NLTK package, PorterStemmer, to do the stemming."
   ]
  },
  {
   "cell_type": "code",
   "execution_count": null,
   "id": "6e143a1a",
   "metadata": {},
   "outputs": [],
   "source": [
    "from nltk.stem import PorterStemmer\n",
    "st = PorterStemmer()\n",
    "data['Story'][:5].apply(lambda x: \" \".join([st.stem(word) for word in x.split()]))"
   ]
  },
  {
   "cell_type": "markdown",
   "id": "fb1a975e",
   "metadata": {},
   "source": [
    "As we can see \"wonderful\" became \"wonder\", which could help an analysis, but \"deathbed\" became \"deathb\" which is less helpful."
   ]
  },
  {
   "cell_type": "markdown",
   "id": "99026ee8",
   "metadata": {},
   "source": [
    "## Lemmatization"
   ]
  },
  {
   "cell_type": "markdown",
   "id": "2df0cd8e",
   "metadata": {},
   "source": [
    "Lemmatization is often a more useful approach than stemming because it leverages an understanding of the word itself to convert the word back to its root word. However, this means lemmatization is less aggressive than stemming (probably a good thing)."
   ]
  },
  {
   "cell_type": "code",
   "execution_count": null,
   "id": "130f9313",
   "metadata": {},
   "outputs": [],
   "source": [
    "#import nltk\n",
    "#nltk.download('wordnet')"
   ]
  },
  {
   "cell_type": "code",
   "execution_count": null,
   "id": "7fe02d15",
   "metadata": {},
   "outputs": [],
   "source": [
    "from textblob import Word\n",
    "data['Story'] = data['Story'].apply(lambda x: \" \".join([Word(word).lemmatize() for word in x.split()]))\n",
    "data['Story'].head()"
   ]
  },
  {
   "cell_type": "markdown",
   "id": "d067d848",
   "metadata": {},
   "source": [
    "## Visualizing Text"
   ]
  },
  {
   "cell_type": "markdown",
   "id": "dc5223b9",
   "metadata": {},
   "source": [
    "Now, we are going to make a word cloud based on our data set. We're going to use the [wordcloud](https://amueller.github.io/word_cloud/) package to help us do that."
   ]
  },
  {
   "cell_type": "code",
   "execution_count": null,
   "id": "1927c929",
   "metadata": {},
   "outputs": [],
   "source": [
    "import wordcloud"
   ]
  },
  {
   "cell_type": "code",
   "execution_count": null,
   "id": "a605fb71",
   "metadata": {},
   "outputs": [],
   "source": [
    "from wordcloud import WordCloud, ImageColorGenerator\n",
    "import matplotlib.pyplot as plt\n",
    "%matplotlib inline\n",
    "%config InlineBackend.figure_format ='retina'\n",
    "\n",
    "stop_words = set(stop)\n",
    "#stop_words.update([\"saw\"])"
   ]
  },
  {
   "cell_type": "markdown",
   "id": "c95cd640",
   "metadata": {},
   "source": [
    "If you want to update the stopwords after you see the wordcloud, type them into the empty list above and remove the # sign."
   ]
  },
  {
   "cell_type": "code",
   "execution_count": null,
   "id": "574a319c",
   "metadata": {},
   "outputs": [],
   "source": [
    "word = \" \".join(data['Story'])\n",
    "wordcloud = WordCloud(stopwords=stop, background_color=\"black\").generate(word)\n",
    "plt.imshow(wordcloud, interpolation='bilinear')\n",
    "plt.axis(\"off\")\n",
    "plt.show()"
   ]
  },
  {
   "cell_type": "markdown",
   "id": "d42c7fa5",
   "metadata": {},
   "source": [
    "The above code creates a wordcloud based off all the words (except for stop words) in all of the stories. While this can be fun, it may not be as interesting as a wordcloud for a single story. Let's compare:"
   ]
  },
  {
   "cell_type": "code",
   "execution_count": null,
   "id": "b7422f1f",
   "metadata": {},
   "outputs": [],
   "source": [
    "for i in range(0, 5):\n",
    "    print('Title: {}'.format(data['Title'][i]))\n",
    "    word = data['Story'][i]\n",
    "    wordcloud = WordCloud(stopwords=stop, background_color=\"white\").generate(word)\n",
    "    plt.imshow(wordcloud, interpolation='bilinear')\n",
    "    plt.axis(\"off\")\n",
    "    plt.show()"
   ]
  },
  {
   "cell_type": "markdown",
   "id": "30029216",
   "metadata": {},
   "source": [
    "# Wrapping Up"
   ]
  },
  {
   "cell_type": "markdown",
   "id": "5ed74bba",
   "metadata": {},
   "source": [
    "At this point we have a several options for cleaning and structuring our text data. We learned how to load data, do basic cleaning and start to analyze our data with some simple counting methods."
   ]
  }
 ],
 "metadata": {
  "jupytext": {
   "formats": "ipynb"
  },
  "kernelspec": {
   "display_name": "Python 3",
   "language": "python",
   "name": "python3"
  }
 },
 "nbformat": 4,
 "nbformat_minor": 5
}
